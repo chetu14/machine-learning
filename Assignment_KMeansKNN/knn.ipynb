{
  "nbformat": 4,
  "nbformat_minor": 0,
  "metadata": {
    "colab": {
      "name": "knn.ipynb",
      "provenance": [],
      "collapsed_sections": [],
      "authorship_tag": "ABX9TyNLxQFYqRociFZBg4Lj5qpJ",
      "include_colab_link": true
    },
    "kernelspec": {
      "name": "python3",
      "display_name": "Python 3"
    }
  },
  "cells": [
    {
      "cell_type": "markdown",
      "metadata": {
        "id": "view-in-github",
        "colab_type": "text"
      },
      "source": [
        "<a href=\"https://colab.research.google.com/github/chetu14/machine-learning/blob/master/knn.ipynb\" target=\"_parent\"><img src=\"https://colab.research.google.com/assets/colab-badge.svg\" alt=\"Open In Colab\"/></a>"
      ]
    },
    {
      "cell_type": "code",
      "metadata": {
        "id": "se3SwDF0q0KZ",
        "colab_type": "code",
        "colab": {}
      },
      "source": [
        "import numpy as np\n",
        "import pandas as pd\n",
        "from sklearn.model_selection import train_test_split\n",
        "from sklearn.preprocessing import StandardScaler\n",
        "from sklearn.neighbors import KNeighborsClassifier\n",
        "from sklearn.metrics import confusion_matrix\n",
        "from sklearn.metrics import f1_score\n",
        "from sklearn.metrics import accuracy_score\n",
        "import seaborn as sns\n",
        "import matplotlib.pyplot as plt\n",
        "\n",
        "\n",
        "# loading the dataset\n",
        "\n",
        "data = pd.read_csv('diabetes.csv')\n",
        "\n",
        "print(data.head())\n",
        "\n",
        "# Replace columns like [Gluscose,BloodPressure,SkinThickness,BMI,Insulin] with Zero as values with mean of respective column\n",
        "\n",
        "\n",
        "zero_not_accepted = ['Glucose','BloodPressure','SkinThickness','BMI','Insulin']\n",
        "# for col in zero_not_accepted:\n",
        "#     for i in data[col]:\n",
        "#         if i==0:\n",
        "#             colSum = sum(data[col])\n",
        "#             meanCol=colSum/len(data[col])\n",
        "#             data[col]=meanCol\n",
        "\n",
        "for col in zero_not_accepted:\n",
        "    data[col]= data[col].replace(0,np.NaN)\n",
        "    mean = int(data[col].mean(skipna=True))\n",
        "    data[col] = data[col].replace(np.NaN,mean)\n",
        "\n",
        "# extracting independent variables\n",
        "\n",
        "X = data.iloc[:,0:8]\n",
        "# extracting dependent variable\n",
        "\n",
        "y = data.iloc[:,8]\n",
        "# Explorning data to know relation before processing\n",
        "\n",
        "sns.heatmap(data.corr())\n",
        "\n",
        "plt.figure(figsize=(25,7))\n",
        "sns.countplot(x='Age',hue='Outcome',data=data,palette='Set1')\n",
        "\n",
        "# splitting dataset into training and testing set\n",
        "\n",
        "\n",
        "X_train,X_test,y_train,y_test = train_test_split(X,y,test_size=0.2,random_state=0)\n",
        "\n",
        "# feature scaling\n",
        "\n",
        "scaler = StandardScaler()\n",
        "X_train = scaler.fit_transform(X_train)\n",
        "X_test = scaler.transform(X_test)\n",
        "# loading model - KNN\n",
        "\n",
        "classifier = KNeighborsClassifier(n_neighbors=11,p=2,metric='euclidean')\n",
        "# fitting model\n",
        "\n",
        "classifier.fit(X_train,y_train)\n",
        "\n",
        "# making predictions\n",
        "\n",
        "y_pred = classifier.predict(X_test)\n",
        "# evaluating model\n",
        "\n",
        "conf_matrix = confusion_matrix(y_test,y_pred)\n",
        "print(conf_matrix)\n",
        "print(f1_score(y_test,y_pred))\n",
        "\n",
        "# accuracy\n",
        "\n",
        "print(accuracy_score(y_test,y_pred))\n",
        "\n",
        "plt.show()"
      ],
      "execution_count": 0,
      "outputs": []
    }
  ]
}
