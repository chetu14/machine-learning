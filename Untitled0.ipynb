{
  "nbformat": 4,
  "nbformat_minor": 0,
  "metadata": {
    "colab": {
      "name": "Untitled0.ipynb",
      "provenance": [],
      "collapsed_sections": [],
      "authorship_tag": "ABX9TyPmqttwOmilnE0uE7v4r5YR",
      "include_colab_link": true
    },
    "kernelspec": {
      "name": "python3",
      "display_name": "Python 3"
    }
  },
  "cells": [
    {
      "cell_type": "markdown",
      "metadata": {
        "id": "view-in-github",
        "colab_type": "text"
      },
      "source": [
        "<a href=\"https://colab.research.google.com/github/chetu14/machine-learning/blob/master/Untitled0.ipynb\" target=\"_parent\"><img src=\"https://colab.research.google.com/assets/colab-badge.svg\" alt=\"Open In Colab\"/></a>"
      ]
    },
    {
      "cell_type": "code",
      "metadata": {
        "id": "aegbmh3YqcPM",
        "colab_type": "code",
        "colab": {}
      },
      "source": [
        "import numpy as np\n",
        "import pandas as pd\n",
        "from subprocess import check_output\n",
        "print(check_output([\"ls\", \"../input\"]).decode(\"utf8\"))\n",
        "import pandas as pd\n",
        "import re\n",
        "from nltk.corpus import stopwords\n",
        "from sklearn import svm\n",
        "\n",
        "email=pd.read_csv(\"../input/spam.csv\",encoding='latin-1')\n",
        "email=email.rename(columns = {'v1':'label','v2':'message'})\n",
        "cols=['label','message']\n",
        "email=email[cols]\n",
        "email=email.dropna(axis=0, how='any')\n",
        "\n",
        "num_emails=email[\"message\"].size\n",
        "def email_processing(raw_email):\n",
        "    letters_only=re.sub(\"[^a-zA-Z]\",\" \",raw_email)\n",
        "    words=letters_only.lower().split()\n",
        "    stops=set(stopwords.words(\"english\"))\n",
        "    m_w=[w for w in words if not w in stops]\n",
        "    return (\" \".join(m_w))\n",
        "\n",
        "clean_email=[]\n",
        "for i in range(0,num_emails):\n",
        "    clean_email.append(email_processing(email[\"message\"][i]))\n",
        "\n",
        "email[\"Processed_Msg\"]=clean_email\n",
        "cols2=[\"Processed_Msg\",\"label\"]\n",
        "email=email[cols2]\n",
        "\n",
        "X_train=email[\"Processed_Msg\"][:5000]\n",
        "Y_train=email[\"label\"][:5000]\n",
        "X_test=email[\"Processed_Msg\"][5001:5500]\n",
        "Y_test=email[\"label\"][5001:5500]\n",
        "\n",
        "import numpy as np\n",
        "from sklearn.feature_extraction.text import CountVectorizer\n",
        "vectorizer=CountVectorizer(analyzer = \"word\",tokenizer = None,preprocessor = None,stop_words = None,max_features = 5000)\n",
        "\n",
        "train_data_features=vectorizer.fit_transform(X_train)\n",
        "train_data_features=train_data_features.toarray()\n",
        "\n",
        "test_data_features=vectorizer.transform(X_test)\n",
        "test_data_features=test_data_features.toarray()\n",
        "\n",
        "clf=svm.SVC(kernel='linear',C=1.0)\n",
        "print (\"Training\")\n",
        "clf.fit(train_data_features,Y_train)\n",
        "\n",
        "print (\"Testing\")\n",
        "predicted=clf.predict(test_data_features)\n",
        "accuracy=np.mean(predicted==Y_test)\n",
        "print (\"Accuracy: \",accuracy)\n",
        "\n",
        "X=email[\"Processed_Msg\"][5501:5502]\n",
        "validation_data=vectorizer.transform(X)\n",
        "validation_data=validation_data.toarray()\n",
        "\n",
        "print (\"SMS: \",X)\n",
        "classification=clf.predict(validation_data)\n",
        "print (\"Classification: \",classification)"
      ],
      "execution_count": 0,
      "outputs": []
    },
    {
      "cell_type": "code",
      "metadata": {
        "id": "U10cXKC0qlva",
        "colab_type": "code",
        "colab": {}
      },
      "source": [
        ""
      ],
      "execution_count": 0,
      "outputs": []
    }
  ]
}